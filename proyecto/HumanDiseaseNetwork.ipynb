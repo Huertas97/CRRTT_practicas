{
 "cells": [
  {
   "cell_type": "markdown",
   "metadata": {},
   "source": [
    "# The Human Disease Network\n",
    "\n",
    "Álvaro Huertas García\n",
    "\n",
    "Sara Dorado Alfaro\n",
    "\n",
    "Enlaces:\n",
    "\n",
    "* https://nbviewer.jupyter.org/github/empet/Human-Disease-Network/blob/master/Human-Disease-Network.ipynb\n",
    "\n",
    "* http://snap.stanford.edu/deepnetbio-ismb/ipynb/Human+Disease+Network.html "
   ]
  },
  {
   "cell_type": "markdown",
   "metadata": {},
   "source": [
    "## Load Graph"
   ]
  },
  {
   "cell_type": "code",
   "execution_count": 1,
   "metadata": {},
   "outputs": [],
   "source": [
    "import networkx as nx\n",
    "import matplotlib.pyplot as plt\n",
    "import numpy as np\n",
    "import csv\n",
    "import numpy as np\n",
    "import pandas as pd"
   ]
  },
  {
   "cell_type": "markdown",
   "metadata": {},
   "source": [
    "A continuación, importamos los datos correspondientes a los nodos (enfermedades) de la red Human Disease Network (HDN)"
   ]
  },
  {
   "cell_type": "code",
   "execution_count": 2,
   "metadata": {},
   "outputs": [
    {
     "data": {
      "text/plain": [
       "{}"
      ]
     },
     "execution_count": 2,
     "metadata": {},
     "output_type": "execute_result"
    }
   ],
   "source": [
    "hdn = nx.read_edgelist('diseasome.edgelist.txt')\n",
    "hdn.name = 'Human Disease Network'\n",
    "\n",
    "# Comprobamos que los nodos carecen de informacion\n",
    "hdn.node[\"222\"]"
   ]
  },
  {
   "cell_type": "markdown",
   "metadata": {},
   "source": [
    "Cargamos el archivo con la meta-información para cada uno de los nodos. Se cargan como objetos `panda`. Observamos como tenemos 3 columnas: `Id`, `Label` y `Disease class`"
   ]
  },
  {
   "cell_type": "code",
   "execution_count": 3,
   "metadata": {},
   "outputs": [
    {
     "data": {
      "text/html": [
       "<div>\n",
       "<style scoped>\n",
       "    .dataframe tbody tr th:only-of-type {\n",
       "        vertical-align: middle;\n",
       "    }\n",
       "\n",
       "    .dataframe tbody tr th {\n",
       "        vertical-align: top;\n",
       "    }\n",
       "\n",
       "    .dataframe thead th {\n",
       "        text-align: right;\n",
       "    }\n",
       "</style>\n",
       "<table border=\"1\" class=\"dataframe\">\n",
       "  <thead>\n",
       "    <tr style=\"text-align: right;\">\n",
       "      <th></th>\n",
       "      <th>Id</th>\n",
       "      <th>Label</th>\n",
       "      <th>Disease class</th>\n",
       "    </tr>\n",
       "  </thead>\n",
       "  <tbody>\n",
       "    <tr>\n",
       "      <td>0</td>\n",
       "      <td>222</td>\n",
       "      <td>Osteoporosis</td>\n",
       "      <td>Bone</td>\n",
       "    </tr>\n",
       "    <tr>\n",
       "      <td>1</td>\n",
       "      <td>306</td>\n",
       "      <td>Epiphyseal dysplasia</td>\n",
       "      <td>Bone</td>\n",
       "    </tr>\n",
       "    <tr>\n",
       "      <td>2</td>\n",
       "      <td>277</td>\n",
       "      <td>Osteopetrosis</td>\n",
       "      <td>Bone</td>\n",
       "    </tr>\n",
       "    <tr>\n",
       "      <td>3</td>\n",
       "      <td>286</td>\n",
       "      <td>Osteogenesis imperfecta</td>\n",
       "      <td>Bone</td>\n",
       "    </tr>\n",
       "    <tr>\n",
       "      <td>4</td>\n",
       "      <td>288</td>\n",
       "      <td>Achondrogenesis-hypochondrogenesis, type II</td>\n",
       "      <td>Bone</td>\n",
       "    </tr>\n",
       "  </tbody>\n",
       "</table>\n",
       "</div>"
      ],
      "text/plain": [
       "    Id                                        Label Disease class\n",
       "0  222                                 Osteoporosis          Bone\n",
       "1  306                         Epiphyseal dysplasia          Bone\n",
       "2  277                                Osteopetrosis          Bone\n",
       "3  286                      Osteogenesis imperfecta          Bone\n",
       "4  288  Achondrogenesis-hypochondrogenesis, type II          Bone"
      ]
     },
     "execution_count": 3,
     "metadata": {},
     "output_type": "execute_result"
    }
   ],
   "source": [
    "### Load labels into\n",
    "# metadata = pd.read_csv('disease.labels.txt', index_col='Id')\n",
    "# metadata.index\n",
    "metadata = pd.read_csv('disease.labels.txt')\n",
    "metadata.head()"
   ]
  },
  {
   "cell_type": "markdown",
   "metadata": {},
   "source": [
    "A continuación vamos a añadir a los nodos la meta-información. Para ello empleamos el atributo `add_node` de `networkx`. La columna `Label` pasará a ser la etiqueta `Disease` y la columna `Disease class` pasará a ser la etiqueta `Class`. De este modo, conseguimos incorporar información a los nodos de la red para facilitar la contextualización biológica cuando realicemos diferentes estudios sobre la misma. "
   ]
  },
  {
   "cell_type": "code",
   "execution_count": 14,
   "metadata": {},
   "outputs": [
    {
     "data": {
      "text/plain": [
       "{'Disease': 'Osteoporosis', 'Class': 'Bone'}"
      ]
     },
     "execution_count": 14,
     "metadata": {},
     "output_type": "execute_result"
    }
   ],
   "source": [
    "for node_id, data_label, data_class in zip(metadata[\"Id\"], metadata[\"Label\"], metadata[\"Disease class\"]):\n",
    "    hdn.add_node(str(node_id), Disease = data_label, Class = data_class)\n",
    "\n",
    "# Prueba de que se ha añadido correctamente la informacion\n",
    "hdn.node[\"222\"]"
   ]
  },
  {
   "cell_type": "code",
   "execution_count": 21,
   "metadata": {},
   "outputs": [],
   "source": [
    "nx.write_edgelist(hdn, path = \"./hdn_nodes_label.csv\", delimiter=' ', data=True, encoding='utf-8')\n",
    "nx.write_gexf(hdn, path = \"hdn_simple.gexf\", encoding='utf-8', prettyprint=True, version='1.1draft')"
   ]
  },
  {
   "cell_type": "code",
   "execution_count": 20,
   "metadata": {},
   "outputs": [
    {
     "data": {
      "text/plain": [
       "array(['Bone', 'Cancer', 'Cardiovascular', 'Connective tissue disorder',\n",
       "       'Dermatological', 'Developmental', 'Ear,Nose,Throat', 'Endocrine',\n",
       "       'Gastrointestinal', 'Hematological', 'Immunological', 'Metabolic',\n",
       "       'Multiple', 'Muscular', 'Neurological', 'Nutritional',\n",
       "       'Ophthamological', 'Psychiatric', 'Renal', 'Respiratory',\n",
       "       'Skeletal', 'Unclassified'], dtype=object)"
      ]
     },
     "execution_count": 20,
     "metadata": {},
     "output_type": "execute_result"
    }
   ],
   "source": [
    "pd.unique(metadata[\"Disease class\"])"
   ]
  },
  {
   "cell_type": "markdown",
   "metadata": {},
   "source": [
    "## Graph Analysis\n",
    "\n",
    "En primer lugar, se procede a realizar un análisis exploratorio de la red. En esta red los nodos son enfermedades y se encuentran conectadas entre sí, si comparten algún gen cuya mutación desencadena el fenotipo patológico. \n",
    "\n",
    "Podemos comprobar que la red se compone de 516 enfermedades, con un total de 1188 conexiones entre sí"
   ]
  },
  {
   "cell_type": "code",
   "execution_count": 5,
   "metadata": {},
   "outputs": [
    {
     "name": "stdout",
     "output_type": "stream",
     "text": [
      "Name: Human Disease Network\n",
      "Type: Graph\n",
      "Number of nodes: 516\n",
      "Number of edges: 1188\n",
      "Average degree:   4.6047\n"
     ]
    }
   ],
   "source": [
    "## Orden y tamaño\n",
    "tam =  nx.number_of_edges(hdn) # numero de aristas\n",
    "orden = nx.number_of_nodes(hdn) # numero de vertices\n",
    "print(nx.info(hdn))"
   ]
  },
  {
   "cell_type": "markdown",
   "metadata": {},
   "source": [
    "Comprobamos si se trata de un grafo dirigido o no dirigido. "
   ]
  },
  {
   "cell_type": "code",
   "execution_count": 6,
   "metadata": {},
   "outputs": [
    {
     "name": "stdout",
     "output_type": "stream",
     "text": [
      "False\n"
     ]
    }
   ],
   "source": [
    "print(nx.is_directed(hdn))"
   ]
  },
  {
   "cell_type": "markdown",
   "metadata": {},
   "source": [
    "Procedemos a estudiar la densidad del grafo, con la función `density` de `networkx`. La densidad para un grafo no dirigido se define como:\n",
    "\n",
    "$$d = \\dfrac{2|E|}{N(N-1)}$$\n",
    "\n",
    "siendo $|E|$ el número de vértices y $N$ el número de nodos que componen el grafo. "
   ]
  },
  {
   "cell_type": "code",
   "execution_count": 8,
   "metadata": {},
   "outputs": [
    {
     "name": "stdout",
     "output_type": "stream",
     "text": [
      "0.008941070219011063\n"
     ]
    }
   ],
   "source": [
    "densidad = nx.density(hdn)\n",
    "print(densidad)"
   ]
  },
  {
   "cell_type": "code",
   "execution_count": 13,
   "metadata": {},
   "outputs": [
    {
     "name": "stdout",
     "output_type": "stream",
     "text": [
      "15\n"
     ]
    }
   ],
   "source": [
    "try:\n",
    "    print(nx.diameter(hdn)) # If the diameter does not exit give an error show it\n",
    "    \n",
    "except:\n",
    "    print(\"El diámetro del grafo no se puede conocer dado que se trata de un grafo no conexo\")"
   ]
  },
  {
   "cell_type": "code",
   "execution_count": 24,
   "metadata": {},
   "outputs": [
    {
     "name": "stdout",
     "output_type": "stream",
     "text": [
      "Label            Colon cancer\n",
      "Disease class          Cancer\n",
      "Name: 114, dtype: object\n"
     ]
    }
   ],
   "source": [
    "## Generamos un diccionario con el nodo como clave y el grado como valor\n",
    "degree_dic = dict(hdn.degree())\n",
    "\n",
    "## Generamos una tupla con la pareja clave-valor, y extraemos la pareja con mayor valor (grado)\n",
    "indice = int(max(degree_dic.items(), key = lambda k: k[1])[0])\n",
    "print(metadata.loc[indice])"
   ]
  },
  {
   "cell_type": "markdown",
   "metadata": {},
   "source": [
    "### Comparación con un grafo aleatorio"
   ]
  },
  {
   "cell_type": "code",
   "execution_count": 11,
   "metadata": {},
   "outputs": [
    {
     "name": "stdout",
     "output_type": "stream",
     "text": [
      "Name: Aleatorio\n",
      "Type: Graph\n",
      "Number of nodes: 516\n",
      "Number of edges: 1188\n",
      "Average degree:   4.6047\n"
     ]
    }
   ],
   "source": [
    "# Grafo aleatorio de mismo orden y tamaño\n",
    "# Reutilizamos orden y tamaño calculado previamente\n",
    "\n",
    "G_AL = nx.gnm_random_graph(orden, tam)\n",
    "G_AL.name = \"Aleatorio\" # añadimos el atributo nombre\n",
    "\n",
    "# Comprobamos que las caracteristicas sean iguales\n",
    "print(nx.info(G_AL))"
   ]
  },
  {
   "cell_type": "code",
   "execution_count": 19,
   "metadata": {},
   "outputs": [
    {
     "name": "stdout",
     "output_type": "stream",
     "text": [
      "Aleatorio (G_AL) --> False \n",
      "Número de componentes (G_AL): 2 \n",
      "\n",
      "Grafo inicial (hdn) -->  True \n",
      "Número de componentes (hdn): 1\n"
     ]
    }
   ],
   "source": [
    "print(\"Aleatorio (G_AL) -->\", nx.is_connected(G_AL),\n",
    "      \"\\nNúmero de componentes (G_AL):\", nx.number_connected_components(G_AL), \n",
    "      \"\\n\\nGrafo inicial (hdn) --> \", nx.is_connected(hdn),\n",
    "      \"\\nNúmero de componentes (hdn):\", nx.number_connected_components(hdn))"
   ]
  },
  {
   "cell_type": "code",
   "execution_count": 20,
   "metadata": {},
   "outputs": [
    {
     "data": {
      "image/png": "[encoded data removed]",
      "text/plain": [
       "<Figure size 432x288 with 1 Axes>"
      ]
     },
     "metadata": {
      "needs_background": "light"
     },
     "output_type": "display_data"
    }
   ],
   "source": [
    "## Distribucion del grado de los nodos del grafo inicial\n",
    "L=nx.degree_histogram(hdn)\n",
    "plt.bar(range(len(L)),L, color='tab:blue')\n",
    "plt.title(\"Degree Histogram\")\n",
    "plt.ylabel(\"Count\")\n",
    "plt.xlabel(\"Degree\")\n",
    "plt.show()"
   ]
  },
  {
   "cell_type": "code",
   "execution_count": 21,
   "metadata": {},
   "outputs": [
    {
     "data": {
      "image/png": "[encoded data removed]",
      "text/plain": [
       "<Figure size 432x288 with 1 Axes>"
      ]
     },
     "metadata": {
      "needs_background": "light"
     },
     "output_type": "display_data"
    }
   ],
   "source": [
    "## Distribucion del grado de los nodos del grafo aleatorio\n",
    "L=nx.degree_histogram(G_AL)\n",
    "plt.bar(range(len(L)),L, color='tab:blue')\n",
    "plt.title(\"Degree Histogram\")\n",
    "plt.ylabel(\"Count\")\n",
    "plt.xlabel(\"Degree\")\n",
    "plt.show()"
   ]
  },
  {
   "cell_type": "markdown",
   "metadata": {},
   "source": [
    "## Conclusiones del análisis inicial\n",
    "\n",
    "* La red se compone de 516 nodos y 1188 aristas\n",
    "\n",
    "\n",
    "* Es un grafo no dirigido\n",
    "\n",
    "\n",
    "* Es un grafo disperso (densidad = 0.009)\n",
    "\n",
    "\n",
    "* El diámetro del grafo es 15. \n",
    "\n",
    "\n",
    "* El grado medio del grafo es 4.6047"
   ]
  }
 ],
 "metadata": {
  "kernelspec": {
   "display_name": "Python 3",
   "language": "python",
   "name": "python3"
  },
  "language_info": {
   "codemirror_mode": {
    "name": "ipython",
    "version": 3
   },
   "file_extension": ".py",
   "mimetype": "text/x-python",
   "name": "python",
   "nbconvert_exporter": "python",
   "pygments_lexer": "ipython3",
   "version": "3.7.4"
  }
 },
 "nbformat": 4,
 "nbformat_minor": 4
}
