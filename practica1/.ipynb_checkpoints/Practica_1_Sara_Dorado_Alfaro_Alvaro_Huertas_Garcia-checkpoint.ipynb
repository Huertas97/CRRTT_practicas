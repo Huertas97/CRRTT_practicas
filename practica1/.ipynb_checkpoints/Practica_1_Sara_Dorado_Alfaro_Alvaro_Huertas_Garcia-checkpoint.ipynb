{
 "cells": [
  {
   "cell_type": "markdown",
   "metadata": {},
   "source": [
    "# PRÁCTICA 1\n",
    "### Autores:\n",
    "* Sara Dorado Alfaro\n",
    "* Álvaro Huertas García\n",
    "\n",
    "Fecha: 06/02/2020"
   ]
  },
  {
   "cell_type": "markdown",
   "metadata": {},
   "source": [
    "## Apartado 1"
   ]
  },
  {
   "cell_type": "code",
   "execution_count": 1,
   "metadata": {},
   "outputs": [],
   "source": [
    "import networkx as nx\n",
    "import matplotlib.pyplot as plt\n",
    "import numpy as np"
   ]
  },
  {
   "cell_type": "code",
   "execution_count": 2,
   "metadata": {},
   "outputs": [
    {
     "name": "stderr",
     "output_type": "stream",
     "text": [
      "/home/huertas97/anaconda3/lib/python3.7/site-packages/networkx/drawing/nx_pylab.py:579: MatplotlibDeprecationWarning: \n",
      "The iterable function was deprecated in Matplotlib 3.1 and will be removed in 3.3. Use np.iterable instead.\n",
      "  if not cb.iterable(width):\n",
      "/home/huertas97/anaconda3/lib/python3.7/site-packages/networkx/drawing/nx_pylab.py:676: MatplotlibDeprecationWarning: \n",
      "The iterable function was deprecated in Matplotlib 3.1 and will be removed in 3.3. Use np.iterable instead.\n",
      "  if cb.iterable(node_size):  # many node sizes\n"
     ]
    },
    {
     "data": {
      "image/png": "[encoded data removed]",
      "text/plain": [
       "<Figure size 432x288 with 1 Axes>"
      ]
     },
     "metadata": {},
     "output_type": "display_data"
    }
   ],
   "source": [
    "# Mostramos el grafo dirigido\n",
    "\n",
    "G = nx.DiGraph()\n",
    "G.add_nodes_from(['1', '2', '5', '10', '3', '4', '6', '9', '7', '8'])\n",
    "G.add_edges_from([('1', '2'), ('1', '5'), ('5', '1'), ('1', '10'), ('4', '2'), ('4', '5'),\n",
    "                  ('10', '6'), ('10', '1'), ('6', '10'), ('3', '4'),\n",
    "                  ('6', '9'), ('7', '6'), ('7', '9'), ('9', '8'), ('9', '6'), ('7', '8')])\n",
    "\n",
    "posiciones = {'1': [7, 0], '2':[5, 1], \n",
    "              '5': [5, -1], '10': [9, 0], \n",
    "              '3': [1, 0], '4': [3, 0], \n",
    "              '6': [11, 0], '9': [13,  1], \n",
    "              '7': [13, -1], '8': [15, 0]}\n",
    "\n",
    "nx.draw(G, pos = posiciones)"
   ]
  },
  {
   "cell_type": "code",
   "execution_count": 3,
   "metadata": {},
   "outputs": [
    {
     "data": {
      "image/png": "[encoded data removed]",
      "text/plain": [
       "<Figure size 432x288 with 1 Axes>"
      ]
     },
     "metadata": {},
     "output_type": "display_data"
    }
   ],
   "source": [
    "# Mostramos el grafo no dirigido\n",
    "\n",
    "G = nx.Graph()\n",
    "G.add_nodes_from(['1', '2', '5', '10', '3', '4', '6', '9', '7', '8'])\n",
    "G.add_edges_from([('1', '2'), ('1', '5'), ('1', '10'), ('2', '4'), ('5', '4'), ('10', '6'), ('3', '4'),\n",
    "                  ('6', '9'), ('6', '7'), ('9', '7'), ('9', '8'), ('7', '8')])\n",
    "\n",
    "posiciones = {'1': [7, 0], '2':[5, 1], \n",
    "              '5': [5, -1], '10': [9, 0], \n",
    "              '3': [1, 0], '4': [3, 0], \n",
    "              '6': [11, 0], '9': [13,  1], \n",
    "              '7': [13, -1], '8': [15, 0]}\n",
    "nx.draw_networkx(G, pos = posiciones)"
   ]
  },
  {
   "cell_type": "markdown",
   "metadata": {},
   "source": [
    "### 1. Representad el siguiente grafo dirigido mediante (a) una matriz de adyacencia y (b) una lista de adyacencia.\n",
    "\n",
    "**a) Matriz de adyacencia:**\n",
    "\n",
    "\n",
    "|         | Nodo 1 | Nodo 2 | Nodo 3 | Nodo 4 | Nodo 5 | Nodo 6 | Nodo 7 | Nodo 8 | Nodo 9 | Nodo 10 |\n",
    "|:-------:|:------:|:------:|:------:|:------:|:------:|:------:|:------:|:------:|:------:|:-------:|\n",
    "|  Nodo 1 |    0   |    1   |    0   |    0   |    1   |    0   |    0   |    0   |    0   |    1    |\n",
    "|  Nodo 2 |    0   |    0   |    0   |    0   |    0   |    0   |    0   |    0   |    0   |    0    |\n",
    "|  Nodo 3 |    0   |    0   |    0   |    1   |    0   |    0   |    0   |    0   |    0   |    0    |\n",
    "|  Nodo 4 |    0   |    1   |    0   |    0   |    1   |    0   |    0   |    0   |    0   |    0    |\n",
    "|  Nodo 5 |    1   |    0   |    0   |    0   |    0   |    0   |    0   |    0   |    0   |    0    |\n",
    "|  Nodo 6 |    0   |    0   |    0   |    0   |    0   |    0   |    0   |    0   |    1   |    1    |\n",
    "|  Nodo 7 |    0   |    0   |    0   |    0   |    0   |    1   |    0   |    1   |    1   |    0    |\n",
    "|  Nodo 8 |    0   |    0   |    0   |    0   |    0   |    0   |    0   |    0   |    0   |    0    |\n",
    "|  Nodo 9 |    0   |    0   |    0   |    0   |    0   |    0   |    0   |    1   |    0   |    0    |\n",
    "| Nodo 10 |    1   |    0   |    0   |    0   |    0   |    1   |    0   |    0   |    0   |    0    |\n",
    "\n",
    "**b) Lista de adyacencia:**\n",
    "\n",
    "<table>\n",
    "    <tr>\n",
    "        <td>\n",
    "\n",
    "$ 1 \\rightarrow 2 \\rightarrow 5 \\rightarrow 10$ \n",
    "\n",
    "$ 2 $\n",
    "\n",
    "$ 3 \\rightarrow 4 $\n",
    "\n",
    "$ 4 \\rightarrow 2 \\rightarrow 5 $\n",
    "\n",
    "$ 5 \\rightarrow 1 $\n",
    "\n",
    "$ 6 \\rightarrow 9 \\rightarrow 10 $\n",
    "\n",
    "$ 7 \\rightarrow 6 \\rightarrow 8 \\rightarrow 9 $\n",
    "\n",
    "$ 8 $\n",
    "\n",
    "$ 9 \\rightarrow 8 $\n",
    "\n",
    "$ 10 \\rightarrow 1 \\rightarrow 6 $\n",
    "        </td>\n",
    "    </tr>\n",
    "</table>\n",
    "\n",
    "### 2. Responded a las siguientes preguntas:\n",
    "\n",
    "\n",
    "Notación: $v_i$ es el vértice $i$-ésimo del grafo.\n",
    "\n",
    "**a)  ¿Es ponderado?**\n",
    "\n",
    "No, porque las aristas no tiene pesos.\n",
    "\n",
    "<br>\n",
    "\n",
    "**b)  ¿Es conexo?**\n",
    "\n",
    "No, porque no hay camino entre cualquier par de vértices. Por ejemplo no hay camino entre $v_7$ y $v_9$.\n",
    "\n",
    "<br>\n",
    "\n",
    "**c) ¿Es débilmente conexo?**\n",
    "\n",
    "Sí, porque el grafo no dirigido es conexo, es decir, existe un camino entre cualquier par de vértices.\n",
    "\n",
    "<br>\n",
    "\n",
    "**d) ¿Cuál es su tamaño y su orden?**\n",
    "\n",
    "Tamaño $|E| = 16$, orden $|V| = 10$.\n",
    "\n",
    "<br>\n",
    "\n",
    "**e) ¿Tiene algún punto de articulación? en caso positivo, indica cual**\n",
    "\n",
    "Para el grafo dirigido todos los nodos lo son, porque el grafo no es conexo. Para el grafo no dirigido, que sí es conexo: $v_1, v_4, v_6, v_{10}$  \n",
    "\n",
    "<br>\n",
    "\n",
    "**f) ¿Tiene lazos?**\n",
    "\n",
    "No, ningún vértice se conecta consigo mismo.\n",
    "\n",
    "<br>\n",
    "\n",
    "**g) ¿El grafo tiene algún ciclo?** \n",
    "\n",
    "<font color='red'>Duda, ¿longitud ciclo?</font>\n",
    "\n",
    "Teniendo en cuenta que un ciclo es todo paseo cerrado (el nodo de inicio y fin es el mismo) en el que no se repiten ramas ni vértices, podemos decir que sí existen ciclos en el grafo dirigido:\n",
    "\n",
    "Sí, hay varios: $v_5 \\rightarrow v_1 \\rightarrow v_5$...\n",
    "\n",
    "Ciclo 1: $\\ C = \\{v_5,v_1,v_5 \\} \\quad k=2$\n",
    "\n",
    "Ciclo 2: $\\ C = \\{v_1, v_{10}, v_1\\} \\quad k=2$\n",
    "\n",
    "Ciclo 3: $\\ C = \\{v_{10}, v_6, v_{10}\\} \\quad k=2$\n",
    "\n",
    "Ciclo 4: $\\ C = \\{v_6, v_9, v_6\\} \\quad k=2$\n",
    "\n",
    "<br>\n",
    "\n",
    "**h) ¿Existe algún camino entre los nodos 4 y 7? En caso positivo, indica cual es y su longitud**\n",
    "\n",
    "No, porque $v_7$ es una fuente, así que no podemos alcanzarlo desde otro nodo.\n",
    "\n",
    "<br>\n",
    "\n",
    "**i) ¿Existe algún camino entre los nodos 3 y 9? En caso positivo, indica cual es y su longitud**\n",
    "\n",
    "Sí:\n",
    "\n",
    "$C = \\{v_3, v_4, v_5, v_1, v_{10}, v_6, v_9 \\} \\quad k = 6$\n",
    "\n",
    "<br>\n",
    "\n",
    "**Considera ahora el grafo como un grafo no dirigido:**\n",
    "\n",
    "**a) ¿El grafo tiene algún ciclo? En caso positivo, indica cual**\n",
    "\n",
    "Teniendo en cuenta que un ciclo es todo paseo cerrado (el nodo de inicio y fin es el mismo) en el que no se repiten ramas ni vértices, podemos decir que sí existen ciclos en el grafo no dirigido:\n",
    "\n",
    "Ciclo 1:  $\\ C=\\{v_4,v_2,v_1,v_5,v_4\\}$\n",
    "\n",
    "Ciclo 2: $\\ C=\\{v_6,v_9,v_8,v_7,v_6\\}$\n",
    "\n",
    "Ciclo 3: $\\ C=\\{v_6,v_9,v_7,v_6\\}$\n",
    "\n",
    "Ciclo 4: $\\ C=\\{v_8,v_7,v_9,v_8\\}$\n",
    "\n",
    "<br>\n",
    "\n",
    "**b) ¿Cuál es el mayor valor de k para el cual existe un k-core?**\n",
    "\n",
    "Un k-core de un grafo G es un subgrafo G' tal que el grado de cada nodo G' es al menos k. Por lo tanto,en el grafo hay dos 2-core:\n",
    "\n",
    "* $G'_{1}=(V'_{1},E'_{1})$ donde  $V'_{1}=\\{v_6, v_7, v_9\\}$ y $E'_{1}= \\{(v_6, v_7), (v_7, v_9), (v_9, v_6\\}$\n",
    "* $G'_{2}=(V'_{2},E'_{2})$ donde  $V'_{2}=\\{v_7, v_8, v_9\\}$ y $E'_{2}= \\{(v_7, v_8), (v_7, v_9), (v_8, v_9\\}$\n",
    "\n",
    "<br>\n",
    "\n",
    "**c) ¿Cuál es el índice de clusterización de $v_{10}$?**\n",
    "\n",
    "El cálculo del índice de clusterización se realiza mediante la siguiente ecuación:\n",
    "\n",
    "$$Cv = \\frac{Nv}{\\frac{kv(kv-1)}{2}}$$\n",
    "\n",
    "donde $Nv$ es el número de ramas que hay entre los vecinos del nodo $v$; $kv$ es el número de vecinos del nodo $v$\n",
    "\n",
    "$v_{10}$ tiene 2 vecinos ($v_{1}, v_{6}$), y éstos no se conectan. Por lo tanto, el índice de clusterización de $v_10$ es $0$. Que el índice de clusterización de $v_{10}$ sea $0$ indica que es importante y un punto débil del grafo, puesto que sin él, sus nodos vecinos pierden quedan desconectados. \n",
    "\n",
    "<br>\n",
    "\n",
    "**d) Calcula el camino característico del nodo 10**\n",
    "\n",
    "El cálculo del índice de clusterización se realiza mediante la siguiente ecuación:\n",
    "\n",
    "$$ L_{v} =  \\frac{\\sum_{k=1}^{|V|}d(v, v_{k})}{|V|-1} $$\n",
    "\n",
    "donde $d(v, v_{k}$ es la distancia de $v$ a un nodo $v_{k}$ del grafo; $|V|$ es el orden del grafo. \n",
    "\n",
    "Camino característico de $v_{10}$.\n",
    "\n",
    "$\\frac{1+2+4+3+2+1+2+3+2}{10-1} = \\frac{20}{9}$ \n",
    "\n",
    "<br>\n",
    "\n",
    "**e) ¿Existe algún cliqué de orden mayor de 2? En caso positivo, indica los nodos que lo componen**\n",
    "\n",
    "Un cliqué es un conjunto de vértices en el que todo par de vértices distintos son adyacentes, es decir, existe una arista que los conecta. En otras palabras, un clique es un subgrafo en el que cada vértice está conectado a todos los demás vértices del subgrafo.\n",
    "\n",
    "En el grafo no dirigido existen dos cliqués (precisamente los dos 2-cores). Los subgrafos:\n",
    "\n",
    "* $G'_{1}=(V'_{1},E'_{1})$ donde $V'_{1}=\\{v_6, v_7, v_9\\}$ y $E'_{1}= \\{(v_6, v_7), (v_7, v_9), (v_9, v_6\\}$\n",
    "* $G'_{2}=(V'_{2},E'_{2})$ donde  $V'_{2}=\\{v_7, v_8, v_9\\}$ y $E'_{2}= \\{(v_7, v_8), (v_7, v_9), (v_8, v_9\\}$"
   ]
  },
  {
   "cell_type": "markdown",
   "metadata": {},
   "source": [
    "## Apartado 2: Análisis de una red de interacción de proteínas medianteNetworkX."
   ]
  },
  {
   "cell_type": "markdown",
   "metadata": {},
   "source": [
    "**1. Descargad de Moodle el grafo *CaernoElegans-LC_uw.txt*, el grafo contiene una red de\n",
    "interacción de proteínas correspondiente al gusano *Caernobidis Elegans***"
   ]
  },
  {
   "cell_type": "markdown",
   "metadata": {},
   "source": [
    "**2. El fichero que contiene la red está en formato lista de ramas, por tanto, cargad el grafo\n",
    "en una variable G_CE mediante la función read_edgelist(\"CL-LC_uw.txt\").**"
   ]
  },
  {
   "cell_type": "code",
   "execution_count": 4,
   "metadata": {
    "scrolled": true
   },
   "outputs": [],
   "source": [
    "G_CE = nx.read_edgelist(\"CaernoElegans-LC_uw.txt\")\n",
    "G_CE.name = 'Inicial' # añadimos atributo nombre"
   ]
  },
  {
   "cell_type": "markdown",
   "metadata": {},
   "source": [
    "**3. Obtened e imprimid por la salida el orden y el tamaño del grafo**"
   ]
  },
  {
   "cell_type": "code",
   "execution_count": 5,
   "metadata": {},
   "outputs": [
    {
     "name": "stdout",
     "output_type": "stream",
     "text": [
      "Tamaño: 1648\n",
      "Orden: 1387\n"
     ]
    }
   ],
   "source": [
    "## Orden y tamaño\n",
    "tam =  nx.number_of_edges(G_CE) # numero de aristas\n",
    "orden = nx.number_of_nodes(G_CE) # numero de vertices\n",
    "\n",
    "print (\"Tamaño:\" , tam)\n",
    "print (\"Orden:\", orden )"
   ]
  },
  {
   "cell_type": "markdown",
   "metadata": {},
   "source": [
    "También podría haberse obtenido a partir de la información que aporta la función \"info()\" ded NetworkX"
   ]
  },
  {
   "cell_type": "code",
   "execution_count": 6,
   "metadata": {
    "scrolled": true
   },
   "outputs": [
    {
     "name": "stdout",
     "output_type": "stream",
     "text": [
      "Name: Inicial\n",
      "Type: Graph\n",
      "Number of nodes: 1387\n",
      "Number of edges: 1648\n",
      "Average degree:   2.3764\n"
     ]
    }
   ],
   "source": [
    "print(nx.info(G_CE))"
   ]
  },
  {
   "cell_type": "markdown",
   "metadata": {},
   "source": [
    "**averiguad si el grafo es dirigido o no**\n",
    "\n",
    "Entre las funciones que incorpora NetworkX se encuentra \"is_directed()\" que devuelve True en caso del que sea dirigido y False en caso contrario"
   ]
  },
  {
   "cell_type": "code",
   "execution_count": 7,
   "metadata": {},
   "outputs": [
    {
     "name": "stdout",
     "output_type": "stream",
     "text": [
      "False\n"
     ]
    }
   ],
   "source": [
    "print(nx.is_directed(G_CE))"
   ]
  },
  {
   "cell_type": "markdown",
   "metadata": {},
   "source": [
    "Por tanto, el grafo cargado perteneciente a *Caernobidis elegans* es no dirigido. "
   ]
  },
  {
   "cell_type": "markdown",
   "metadata": {},
   "source": [
    "**¿Es un grafo denso o disperso?**\n",
    "\n",
    "La dispersión de un grafo se calcula con la siguiente fórmula:\n",
    "\n",
    "$$ D =\\frac{2|E|}{|V|(|V|-1)}$$\n",
    "\n",
    "Donde:\n",
    "* $|E|$ es el número de aristas\n",
    "* $|V|$ es el número de vértices "
   ]
  },
  {
   "cell_type": "code",
   "execution_count": 8,
   "metadata": {},
   "outputs": [
    {
     "name": "stdout",
     "output_type": "stream",
     "text": [
      "0.00171\n"
     ]
    }
   ],
   "source": [
    "densidad = (2*tam)/(orden*(orden-1))\n",
    "print(round(densidad, 5))"
   ]
  },
  {
   "cell_type": "markdown",
   "metadata": {},
   "source": [
    "También se puede emplear la función \"density()\" de NetworkX"
   ]
  },
  {
   "cell_type": "code",
   "execution_count": 9,
   "metadata": {},
   "outputs": [
    {
     "name": "stdout",
     "output_type": "stream",
     "text": [
      "0.00171\n"
     ]
    }
   ],
   "source": [
    "densidad_2 = nx.density(G_CE)\n",
    "print(round(densidad_2, 5))"
   ]
  },
  {
   "cell_type": "markdown",
   "metadata": {},
   "source": [
    "Al ser muy cercano a 0 podemos asegurar que se trata de un grafo disperso. El hecho de se trate de un grafo disperso es bueno y lo hace interesante de estudiar. ua\n",
    "\n",
    "Por un lado, los algoritmos empleados en cálculos de parámetros de grafos proceden mucho más rápido en grafos dispersos que en grafos densos. Igualmente, las redes biológicas son en la mayor parte de las ocasiones grafos dispersos, lo que las hace muy interesante desde el punto de vista de su estudio. \n"
   ]
  },
  {
   "cell_type": "markdown",
   "metadata": {},
   "source": [
    "**4. Cread un grafo aleatorio G_AL que tenga el mismo orden y tamaño que el grafo que acabáis de cargar mediante la función gnm_random_graph(n,m)**\n",
    "\n",
    "Esta función nos permite generar un grafo aleatorio con **n** nodos y **m** ramas por nodo. "
   ]
  },
  {
   "cell_type": "code",
   "execution_count": 10,
   "metadata": {},
   "outputs": [
    {
     "name": "stdout",
     "output_type": "stream",
     "text": [
      "Name: Aleatorio\n",
      "Type: Graph\n",
      "Number of nodes: 1387\n",
      "Number of edges: 1648\n",
      "Average degree:   2.3764\n"
     ]
    }
   ],
   "source": [
    "# Reutulizamos orden y tamaño calculado previamente\n",
    "G_AL = nx.gnm_random_graph(orden, tam)\n",
    "G_AL.name = \"Aleatorio\" # añadimos el atributo nombre\n",
    "\n",
    "# Comprobamos que las caracteristicas sean iguales\n",
    "print(nx.info(G_AL))"
   ]
  },
  {
   "cell_type": "markdown",
   "metadata": {},
   "source": [
    "### REPETIMOS LOS CÁLCULOS PARA 20 GRAFOS ALEATORIOS"
   ]
  },
  {
   "cell_type": "code",
   "execution_count": 11,
   "metadata": {},
   "outputs": [
    {
     "name": "stdout",
     "output_type": "stream",
     "text": [
      "{'Degree Centrality': (0.0017145395660175602, 3.428548309156935e-19), 'Nodo max Degree Centrality': (0.006493506493506494, 0.0), 'Cercania': (0.09548953221048938, 0.0018680113058824749), 'Nodo max cercania': (0.14618231289077976, 0.005669406932624549), 'Betweenness': (0.003625776289942522, 0.00015639291847715044), 'Nodo max betweenness': (0.04151316349729417, 0.011551881163075057), 'Clustering': (0.0005827925979331892, 0.0004506128334534968), 'Nodo max clustering': (0.21666666666666667, 0.11666666666666665), 'Max k-core': (2.0, 0.0), 'Shortest path': (7.818438476924635, 0.08799310046333941), 'Componentes': (158.5, 11.5)}\n"
     ]
    }
   ],
   "source": [
    "# REPETIMOS LOS CÁLCULOS PARA 20 GRAFOS ALEATORIOS\n",
    "lista_grafos  = [nx.gnm_random_graph(orden, tam) for i in range(0, 2)]\n",
    "\n",
    "l_centralidad = [sum(nx.degree_centrality(g).values()) / orden for g in lista_grafos]\n",
    "l_nodo_max_centralidad = [max(nx.degree_centrality(g).items(), key = lambda pareja: pareja[1])[1] for g in lista_grafos ]\n",
    "\n",
    "l_cercania = [sum(nx.closeness_centrality(g).values()) / orden for g in lista_grafos]\n",
    "l_nodo_max_cercania = [max(nx.closeness_centrality(g).items(), key = lambda pareja: pareja[1])[1] for g in lista_grafos]\n",
    "\n",
    "l_betweenness = [sum(nx.betweenness_centrality(g).values()) / orden for g in lista_grafos]\n",
    "l_nodo_max_bt = [max(nx.betweenness_centrality(g).items(), key = lambda pareja: pareja[1])[1] for g in lista_grafos]\n",
    "\n",
    "l_clustering = [nx.average_clustering(g) for g in lista_grafos]\n",
    "l_nodo_max_clust = [max(nx.clustering(g).items(), key = lambda pareja: pareja[1])[1] for g in lista_grafos]\n",
    "\n",
    "l_kcores = [max(nx.core_number(g).values()) for g in lista_grafos]\n",
    "\n",
    "l_min_path = [nx.average_shortest_path_length(max(nx.connected_component_subgraphs(g), key = len)) for g in lista_grafos]\n",
    "\n",
    "l_num_comp = [nx.number_connected_components(g) for g in lista_grafos]\n",
    "\n",
    "# Guardamos \n",
    "dic_params = {}\n",
    "\n",
    "dic_params[\"Degree Centrality\"] = np.mean(np.array(l_centralidad)), np.std(np.array(l_centralidad))\n",
    "dic_params[\"Nodo max Degree Centrality\"] = np.mean(np.array(l_nodo_max_centralidad)), np.std(np.array(l_nodo_max_centralidad))\n",
    "\n",
    "\n",
    "dic_params[\"Cercania\"] = np.mean(np.array(l_cercania)), np.std(np.array(l_cercania))\n",
    "dic_params[\"Nodo max cercania\"] = np.mean(np.array(l_nodo_max_cercania)), np.std(np.array(l_nodo_max_cercania))\n",
    "\n",
    "dic_params[\"Betweenness\"] = np.mean(np.array(l_betweenness)), np.std(np.array(l_betweenness))\n",
    "dic_params[\"Nodo max betweenness\"] = np.mean(np.array(l_nodo_max_bt)), np.std(np.array(l_nodo_max_bt))\n",
    "\n",
    "dic_params[\"Clustering\"] = np.mean(np.array(l_clustering)), np.std(np.array(l_clustering))\n",
    "dic_params[\"Nodo max clustering\"] = np.mean(np.array(l_nodo_max_clust)), np.std(np.array(l_nodo_max_clust))\n",
    "\n",
    "dic_params[\"Max k-core\"] = np.mean(np.array(l_kcores)), np.std(np.array(l_kcores))\n",
    "dic_params[\"Shortest path\"] = np.mean(np.array(l_min_path)), np.std(np.array(l_min_path))\n",
    "\n",
    "dic_params[\"Componentes\"] = np.mean(np.array(l_num_comp)), np.std(np.array(l_num_comp))\n",
    "print(dic_params)"
   ]
  },
  {
   "cell_type": "markdown",
   "metadata": {},
   "source": [
    "**5. Indica si ambos grafos son conexos**\n",
    "\n",
    "Según la definición de conexidad, un grafo es conexo si para cada par de nodos del grafo existe al menos un camino que los une (paseo de un un nodo $u$ a un nodo $v$ en el cual todos los vértices $\\{v_0, v_1,...,v_k\\}$ son distintos). \n",
    "\n",
    "Esta característica del grafo puede conocerse a partir de la función \"is_connected()\" de NetworkX"
   ]
  },
  {
   "cell_type": "code",
   "execution_count": 12,
   "metadata": {},
   "outputs": [
    {
     "name": "stdout",
     "output_type": "stream",
     "text": [
      "Aleatorio (G_AL) --> False \n",
      "Número de componentes (G_AL): 157 \n",
      "\n",
      "Grafo inicial (G_CE) -->  False \n",
      "Número de componentes (G_CE): 89\n"
     ]
    }
   ],
   "source": [
    "print(\"Aleatorio (G_AL) -->\", nx.is_connected(G_AL),\n",
    "      \"\\nNúmero de componentes (G_AL):\", nx.number_connected_components(G_AL), \n",
    "      \"\\n\\nGrafo inicial (G_CE) --> \", nx.is_connected(G_CE),\n",
    "      \"\\nNúmero de componentes (G_CE):\", nx.number_connected_components(G_CE))"
   ]
  },
  {
   "cell_type": "markdown",
   "metadata": {},
   "source": [
    "**6. ¿Cuál es el nodo con mayor grado en cada grafo?**\n",
    "\n",
    "El grado de los nodos de un grafo (número de vecinos adyacentes que posee cada nodo) se puede conocer con el atributo \"G.degree()\" del objeto creado por NetworkX."
   ]
  },
  {
   "cell_type": "code",
   "execution_count": 13,
   "metadata": {},
   "outputs": [
    {
     "name": "stdout",
     "output_type": "stream",
     "text": [
      "('T08G11.5', 131)\n"
     ]
    }
   ],
   "source": [
    "## Generamos un diccionario con el nodo como clave y el grado como valor\n",
    "degree_dic = dict(G_CE.degree())\n",
    "\n",
    "## Generamos una tupla con la pareja clave-valor, y extraemos la pareja con mayor valor (grado)\n",
    "print(max(degree_dic.items(), key = lambda k: k[1]))"
   ]
  },
  {
   "cell_type": "markdown",
   "metadata": {},
   "source": [
    "**7. ¿Cuál es la máxima distancia entre dos nodos del grafo (diámetro del grafo)?**\n",
    "\n",
    "El diámetro del grafo puede obtenerse con la función \"diameter()\" de NetworkX."
   ]
  },
  {
   "cell_type": "code",
   "execution_count": 14,
   "metadata": {},
   "outputs": [
    {
     "name": "stdout",
     "output_type": "stream",
     "text": [
      "El diámetro del grafo no se puede conocer dado que se trata de un grafo no conexo\n"
     ]
    }
   ],
   "source": [
    "try:\n",
    "    print(nx.diameter(G_CE)) # If the diameter does not exit give an error show it\n",
    "    \n",
    "except:\n",
    "    print(\"El diámetro del grafo no se puede conocer dado que se trata de un grafo no conexo\")"
   ]
  },
  {
   "cell_type": "markdown",
   "metadata": {},
   "source": [
    "## Apartado 3: Distribución del grado de los nodos"
   ]
  },
  {
   "cell_type": "markdown",
   "metadata": {},
   "source": [
    "**1. Visualizad la distribución del grado de los nodos de ambos grafos**"
   ]
  },
  {
   "cell_type": "code",
   "execution_count": 15,
   "metadata": {},
   "outputs": [
    {
     "data": {
      "image/png": "[encoded data removed]",
      "text/plain": [
       "<Figure size 864x360 with 1 Axes>"
      ]
     },
     "metadata": {
      "needs_background": "light"
     },
     "output_type": "display_data"
    }
   ],
   "source": [
    "## Distribucion del grado de los nodos del grafo inicial\n",
    "L=nx.degree_histogram(G_CE)\n",
    "\n",
    "# tamaño figura\n",
    "plt.figure(figsize = (12, 5))\n",
    "plt.bar(range(len(L)),L, color='tab:blue')\n",
    "\n",
    "# titulo\n",
    "plt.title(\"Degree Histogram\", fontsize = 20)\n",
    "\n",
    "# ejes X y Y\n",
    "plt.ylabel(\"Count\", fontsize = 16)\n",
    "plt.xlabel(\"Degree\", fontsize = 16)\n",
    "plt.xticks(fontsize = 12)\n",
    "plt.yticks(fontsize = 12)\n",
    "plt.show()"
   ]
  },
  {
   "cell_type": "code",
   "execution_count": 16,
   "metadata": {
    "scrolled": true
   },
   "outputs": [
    {
     "data": {
      "image/png": "[encoded data removed]",
      "text/plain": [
       "<Figure size 864x360 with 1 Axes>"
      ]
     },
     "metadata": {
      "needs_background": "light"
     },
     "output_type": "display_data"
    }
   ],
   "source": [
    "## Distribucion del grado de los nodos del grafo aleatorio\n",
    "L=nx.degree_histogram(G_AL)\n",
    "\n",
    "# tamaño figura\n",
    "plt.figure(figsize = (12, 5))\n",
    "plt.bar(range(len(L)),L, color='tab:blue')\n",
    "\n",
    "# titulo\n",
    "plt.title(\"Degree Histogram\", fontsize = 20)\n",
    "\n",
    "# ejes X y Y\n",
    "plt.ylabel(\"Count\", fontsize = 16)\n",
    "plt.xlabel(\"Degree\", fontsize = 16)\n",
    "plt.xticks(fontsize = 12)\n",
    "plt.yticks(fontsize = 12)\n",
    "plt.show()"
   ]
  },
  {
   "cell_type": "code",
   "execution_count": 17,
   "metadata": {},
   "outputs": [
    {
     "name": "stdout",
     "output_type": "stream",
     "text": [
      "Name: Inicial\n",
      "Type: Graph\n",
      "Number of nodes: 1387\n",
      "Number of edges: 1648\n",
      "Average degree:   2.3764\n",
      "\n",
      "Name: Aleatorio\n",
      "Type: Graph\n",
      "Number of nodes: 1387\n",
      "Number of edges: 1648\n",
      "Average degree:   2.3764\n"
     ]
    }
   ],
   "source": [
    "print(nx.info(G_CE))\n",
    "print()\n",
    "print(nx.info(G_AL))"
   ]
  },
  {
   "cell_type": "markdown",
   "metadata": {},
   "source": [
    "**2. ¿Son iguales las gráficas de distribución de grados de ambos grafos? ¿Qué conclusión sacas de lo anterior?**\n",
    "\n",
    "Claramente se observa que ambos gráficos no siguen la misma distribución del grado de sus nodos, aunque ambos poseen el mismo número de nodos, ramas y número medio de grados por nodo.  \n",
    "\n",
    "En el caso del grafo inicial vemos que hay nodos con un grado alto (por ejemplo anteriormente se comprobó que el nodo del grafo inicial con mayor grado presentaba un grado de 131), que en el caso del grafo aleatorio no se observa. Este comportamiento demuestra que nuestro grafo inicial no se comporta como un grafo aleatorio y, por tanto, podemos asegurar que no se trata de un grafo aleatorio.  "
   ]
  },
  {
   "cell_type": "markdown",
   "metadata": {},
   "source": [
    "**3. Dibuja ahora la distribución del grado de los nodos de la red de interacción de proteínas usando escala logarítmica en ambos ejesm añade para ellos dos líneas de código para cambiar el tipo de escala en cada eje:**\n",
    "\n",
    "plt.xscale(\"log\", nonposx = 'clip')\n",
    "\n",
    "plt.yscale(\"log\", nonposy = 'clip')"
   ]
  },
  {
   "cell_type": "code",
   "execution_count": 18,
   "metadata": {},
   "outputs": [
    {
     "data": {
      "image/png": "[encoded data removed]",
      "text/plain": [
       "<Figure size 864x576 with 1 Axes>"
      ]
     },
     "metadata": {
      "needs_background": "light"
     },
     "output_type": "display_data"
    }
   ],
   "source": [
    "L=nx.degree_histogram(G_CE)\n",
    "plt.figure(figsize = (12, 8))\n",
    "plt.plot(range(len(L)),L, linestyle='--', marker='o', color='tab:blue')\n",
    "\n",
    "# titulo\n",
    "plt.title(\"Distribución de grado de C.elegans\", fontsize = 20)\n",
    "\n",
    "# ejes X y Y\n",
    "plt.ylabel(\"log(counts)\", fontsize = 16)\n",
    "plt.xlabel(\"log(k)\", fontsize = 16)\n",
    "plt.xscale(\"log\", nonposx = 'clip')\n",
    "plt.yscale(\"log\", nonposy = 'clip')\n",
    "plt.xticks(fontsize = 14)\n",
    "plt.yticks(fontsize = 14)\n",
    "\n",
    "# parametros de los ticks \n",
    "plt.tick_params(axis=\"both\", which = \"minor\", direction=\"out\", length = 5)\n",
    "plt.tick_params(axis=\"both\", which = \"major\", direction=\"out\", length = 10)\n",
    "plt.show()"
   ]
  },
  {
   "cell_type": "code",
   "execution_count": 19,
   "metadata": {},
   "outputs": [
    {
     "data": {
      "image/png": "[encoded data removed]",
      "text/plain": [
       "<Figure size 864x576 with 1 Axes>"
      ]
     },
     "metadata": {
      "needs_background": "light"
     },
     "output_type": "display_data"
    }
   ],
   "source": [
    "L=nx.degree_histogram(G_AL)\n",
    "plt.figure(figsize = (12, 8))\n",
    "plt.plot(range(len(L)),L, linestyle='--', marker='o', color='tab:blue')\n",
    "\n",
    "# titulo\n",
    "plt.title(\"Distribución de grado de grafo aleatorio\", fontsize = 20)\n",
    "\n",
    "# ejes X y Y\n",
    "plt.ylabel(\"log(counts)\", fontsize = 16)\n",
    "plt.xlabel(\"log(k)\", fontsize = 16)\n",
    "plt.xscale(\"log\", nonposx = 'clip')\n",
    "plt.yscale(\"log\", nonposy = 'clip')\n",
    "plt.xticks(fontsize = 14)\n",
    "plt.yticks(fontsize = 14)\n",
    "\n",
    "# parametros de los ticks \n",
    "plt.tick_params(axis=\"both\", which = \"minor\", direction=\"out\", length = 5)\n",
    "plt.tick_params(axis=\"both\", which = \"major\", direction=\"out\", length = 10)\n",
    "plt.show()"
   ]
  },
  {
   "cell_type": "code",
   "execution_count": 20,
   "metadata": {},
   "outputs": [
    {
     "data": {
      "image/png": "[encoded data removed]",
      "text/plain": [
       "<Figure size 864x576 with 1 Axes>"
      ]
     },
     "metadata": {
      "needs_background": "light"
     },
     "output_type": "display_data"
    }
   ],
   "source": [
    "AL = nx.degree_histogram(G_AL)\n",
    "CE = nx.degree_histogram(G_CE)\n",
    "\n",
    "# Tamaño de la figura\n",
    "plt.figure(figsize = (12, 8))\n",
    "\n",
    "# Distribución de grado de grafo aleatorio\n",
    "plt.plot(range(len(AL)), AL, linestyle='--', marker='o', color='tab:orange', label = \"Aleatorio\")\n",
    "# Distribución de grado de grafo de C. elegans\n",
    "plt.plot(range(len(CE)), CE, linestyle='--', marker='o', color='tab:blue', label = \"C. elegans\")\n",
    "\n",
    "# Titulo\n",
    "plt.title(\"Distribución de grado\", fontsize = 20)\n",
    "\n",
    "# ejes X y Y\n",
    "plt.ylabel(\"log(counts)\", fontsize = 16)\n",
    "plt.xlabel(\"log(k)\", fontsize = 16)\n",
    "plt.xscale(\"log\", nonposx = 'clip')\n",
    "plt.yscale(\"log\", nonposy = 'clip')\n",
    "plt.xticks(fontsize = 14)\n",
    "plt.yticks(fontsize = 14)\n",
    "\n",
    "# parametros de los ticks\n",
    "plt.tick_params(axis=\"both\", which = \"minor\", direction=\"out\", length = 5)\n",
    "plt.tick_params(axis=\"both\", which = \"major\", direction=\"out\", length = 10)\n",
    "\n",
    "# leyenda\n",
    "plt.legend(loc = \"best\", fontsize = 16)\n",
    "plt.show()"
   ]
  },
  {
   "cell_type": "markdown",
   "metadata": {},
   "source": [
    "**4. ¿Qué tipo de gráfica obtienes? ¿Podrías calcular aproximadamente la pendiente de los datos?**\n",
    "\n",
    "La primera gráfica tiene una región claramente lineal mientras que la segunda es una curva. \n",
    "\n",
    "La primera gŕafica es la representación característica de una red libre de escala donde algunos nodos están altamente conectados, mientras que el grado de conectividad de casi todos los nodos es bastante bajo. Esto además concuerda con el hecho de que la pendiente sea negativa. Tomando de forma aproximada dos puntos de la región rectilínea de la gráfica obtenemos: \n",
    "\n",
    "$$ pendiente = \\frac{y_2 -y_1}{x_2 - x_1} = \\frac{3-1}{0-0.9} = -2.22$$\n",
    "\n",
    "Por el contrario, la segunda gráfica no corresponde a una recta y, por tanto, no es posible calcular su pendiente. Esta representación curvilínea se corresponde a los grafos aleatorios, donde la frecuencia de nodos disminuye a medida que aumenta el número de grado debido a que la probabilidd de que se formen ramas es igual para todos los nodos. \n",
    "\n",
    "<font color='red'>¿QUé pongo</font>"
   ]
  },
  {
   "cell_type": "markdown",
   "metadata": {},
   "source": [
    "## Apartado 4: Cálculo de parámetros de grafos\n",
    "\n",
    "**Calcula para ambos grafos:**\n",
    "\n",
    "$ \\\\ $\n",
    "\n",
    "**a) degree_centrality(G)** (una vez obtenido el valor para los nodos, debéis hacer el promedio entre todos los nodo\n",
    "\n",
    "Dentro de las medidas de centralidad de un grafo encontramos la centralidad del grado (\"degree centrality\"), que corresponde al número de ramas que posee un nodo con los demás [[1]](https://es.wikipedia.org/wiki/Centralidad). Dado que el grafo no es un grafo dirigido, no hay que diferenciar entre grados de salida y de entrada. Por lo tanto, para conocer la centralidad se emplea la función: *degree_centrality()* de NetworkX. \n",
    "\n",
    "Se calcula de la siguiente forma:\n",
    "\n",
    "$$C_{DEG}^v =  \\frac{k_v}{|V|}$$\n",
    "\n",
    "$$\\bar{C}_{DEG}^G = \\frac{\\sum_{v=1}^{|V|}{C_{DEG}^v}}{|V|}$$\n",
    "\n",
    "Donde:\n",
    "* $C_{DEG}^v$ es la centralidad del grado del nodo $v$\n",
    "* $\\bar{C}_{DEG}$ es el promedio de la centralidad del grado del grafo $G$\n",
    "* $k_v$ es el grado del nodo $v$\n",
    "* $|V|$ es el orden del grafo\n",
    "\n",
    "La centralidad del grado nos permite conocer como de conectado se encuentra un nodo con el resto de nodos. Por ejemplo, en el grafo correspondiente a la red de *C. elegans* se comprueba que el nodo con mayor grado calculado previamente es el que presenta mayor valor de centralidad del grado. De este modo, podemos determinar nodos importantes de la red y potenciales dianas para atacar la red. \n",
    "\n",
    "Observando el resultado, es lógico que ambos gráficos tengan el mismo valor promedio de centralidad del grado, porque ambos tienen el mismo número de nodos y de ramas por lo que, aunque la centralidad del grado de cada nodo individualmente sea diferente, el promedio será el mismo. Igualmente, observamos que el grafo de la red de proteínas de *C. elegans* no es un grafo aleatorio dado que el valor máximo de centralidad de grado  en el caso de *C. elegans* es mayor frente al máximo del grafo aleatorio (0.09 > 0.006). "
   ]
  },
  {
   "cell_type": "code",
   "execution_count": 21,
   "metadata": {},
   "outputs": [
    {
     "name": "stdout",
     "output_type": "stream",
     "text": [
      "Promedio de la centralidad de grado en la red de proteínas de C. elegans:  0.0017145395660175464\n",
      "Nodo con mayor centralidad de grado en la red de proteínas de C. elegans: T08G11.5, (0.09451659451659451)\n"
     ]
    }
   ],
   "source": [
    "# Grafo inicial\n",
    "dic_centralidad = nx.degree_centrality(G_CE) # centralidad calculada para todos los nodos\n",
    "# print (dic_centralidad)\n",
    "# Promedio\n",
    "promedio_centralidad = (sum(dic_centralidad.values()) / orden)\n",
    "\n",
    "print(\"Promedio de la centralidad de grado en la red de proteínas de C. elegans: \", promedio_centralidad)\n",
    "\n",
    "# Nodo con mayor valor de centralidad de grado\n",
    "mayor = max(dic_centralidad.items(), key = lambda pareja: pareja[1] )\n",
    "print(\"Nodo con mayor centralidad de grado en la red de proteínas de C. elegans: %s, (%s)\" %(mayor[0], mayor[1]))"
   ]
  },
  {
   "cell_type": "code",
   "execution_count": 22,
   "metadata": {},
   "outputs": [
    {
     "name": "stdout",
     "output_type": "stream",
     "text": [
      "Promedio de la centralidad media de grado en el grafo aleatorio: 0.0017145395660175602 con 3.428548309156935e-19 desviación estándar\n",
      "\n",
      "Centralidad media del nodo con mayor centralidad de grado en el grafo aleatorio: 0.006493506493506494, con desviación estándar 0.0\n"
     ]
    }
   ],
   "source": [
    "print(\"Promedio de la centralidad media de grado en el grafo aleatorio: %s con %s desviación estándar\"\n",
    "      %(dic_params[\"Degree Centrality\"][0], dic_params[\"Degree Centrality\"][1]))\n",
    "\n",
    "print()\n",
    "print(\"Centralidad media del nodo con mayor centralidad de grado en el grafo aleatorio: %s, con desviación estándar %s\" \n",
    "      %(dic_params[\"Nodo max Degree Centrality\"][0], dic_params[\"Nodo max Degree Centrality\"][1]))"
   ]
  },
  {
   "cell_type": "markdown",
   "metadata": {},
   "source": [
    "$ \\\\ $\n",
    "\n",
    "**b) closeness_centrality(G)** \n",
    "\n",
    "La cercanía (inversamente proporcional a la lejanía) es otra medida de centralidad basada en el cálculo de la suma o bien el promedio de las distancias más cortas desde un nodo hacia todos los demás. "
   ]
  },
  {
   "cell_type": "code",
   "execution_count": 23,
   "metadata": {
    "scrolled": true
   },
   "outputs": [
    {
     "name": "stdout",
     "output_type": "stream",
     "text": [
      "Promedio de la cercanía en la red de proteínas de C. elegans:  0.07114268033538046\n",
      "Nodo con mayor centralidad de grado en la red de proteínas de C. elegans: W10C8.2, (0.13008480872167205)\n"
     ]
    },
    {
     "data": {
      "image/png": "[encoded data removed]",
      "text/plain": [
       "<Figure size 432x288 with 1 Axes>"
      ]
     },
     "metadata": {},
     "output_type": "display_data"
    }
   ],
   "source": [
    "# Grafo inicial\n",
    "nx.draw(G_CE)\n",
    "dic_cercania = nx.closeness_centrality(G_CE)\n",
    "promedio_cercania = (sum(dic_cercania.values()) / orden)\n",
    "print(\"Promedio de la cercanía en la red de proteínas de C. elegans: \", promedio_cercania)\n",
    "\n",
    "mayor = max(dic_cercania.items(), key = lambda pareja: pareja[1] )\n",
    "print(\"Nodo con mayor centralidad de grado en la red de proteínas de C. elegans: %s, (%s)\" %(mayor[0], mayor[1]))"
   ]
  },
  {
   "cell_type": "code",
   "execution_count": 24,
   "metadata": {},
   "outputs": [
    {
     "name": "stdout",
     "output_type": "stream",
     "text": [
      "Promedio de la cercanía media de grado en el grafo aleatorio: 0.09548953221048938, con 0.0018680113058824749 desviación estándar\n",
      "\n",
      "Centralidad media del nodo con mayor cercanía en el grafo aleatorio: 0.14618231289077976, con desviación estándar 0.005669406932624549\n"
     ]
    }
   ],
   "source": [
    "print(\"Promedio de la cercanía media de grado en el grafo aleatorio: %s, con %s desviación estándar\"\n",
    "      %(dic_params[\"Cercania\"][0], dic_params[\"Cercania\"][1]))\n",
    "print()\n",
    "print(\"Centralidad media del nodo con mayor cercanía en el grafo aleatorio: %s, con desviación estándar %s\" \n",
    "      %(dic_params[\"Nodo max cercania\"][0], dic_params[\"Nodo max cercania\"][1]))"
   ]
  },
  {
   "cell_type": "code",
   "execution_count": null,
   "metadata": {},
   "outputs": [],
   "source": [
    "# Grafo aleatorio\n",
    "nx.draw(G_AL)"
   ]
  },
  {
   "cell_type": "markdown",
   "metadata": {},
   "source": [
    "\n",
    "\n",
    "La cercanía se expresa como la inversa de la suma de las distancias de un grafo. Normalmente se muestra normalizada por el número de nodos diferentes al nodo de partida ($N-1$, siendo $N$ el número total de nodos)[[1]](https://www.ebi.ac.uk/training/online/course/network-analysis-protein-interaction-data-introduction/building-and-analysing-ppins-1):\n",
    "\n",
    "$$ CC_{i} = \\frac{N-1}{\\sum_{j} d_{i,j}} $$\n",
    "\n",
    "Donde:\n",
    "* $i \\neq j$\n",
    "* $N$ es el número de nodos\n",
    "* $d_{i,j}$ es la distancia mínima entre el nodo $i$ y $j$\n",
    "\n",
    "$$Cercanía \\ aletorio > Cercanía \\ NO \\ aleatorio???$$\n",
    "\n",
    "### He comprobado que redes de proteínas tienen mayor centralidad que las aleatorias, y tiene sentido si se encuentran más clusterizadas. \n",
    "\n",
    "Mientras mayor sea el valor de la cercanía, se puede decir que el nodo está más «cercano» al resto de nodos de la red. De este modo, la cercanía de un nodo refleja la accesibilidad de un nodo y la rapidez con la que la información se propaga en una red [[1]](https://www.ebi.ac.uk/training/online/course/network-analysis-protein-interaction-data-introduction/building-and-analysing-ppins-1)[[2]](https://es.wikipedia.org/wiki/Centralidad). \n",
    "\n",
    "\n",
    "Teniendo esto último en consideración y que ambos grafos poseen el mismo número de nodos y ramas, el hecho de que el grafo aleatorio presente mayor cercanía que la red de proteínas de *C. elegans* (0.09 > 0.07) indica que las ramas del grafo aleatrio se encuentran distribuidas de forma más uniforme que en el grafo de proteínas de *C. elegans*, existiendo en éste último un sesgo en la disposición de las aristas. Esto además también se observó anteriormente cuando se calculó la distribución del grado de los nodos en ambos grafos.\n",
    "Igualmente, el hecho de que la red de proteínas de *C. elegans* presente una cercanía menor nos indica que pueden existir nodos con un grado elevado con respecto al resto, como se ha comprobado anteriormente. \n",
    "\n",
    "Es interesante comentar que en ambos grafos, el nodo con mayor cercanía no es el mismo que el nodo que presentaba mayor centralidad del grado. Esto es posible dado que en la cercanía se consideran las distancias más cortas desde un nodo al resto y es posible que éste no sea el que mayor número de ramas posea, como se muestra a continuación: "
   ]
  },
  {
   "cell_type": "code",
   "execution_count": null,
   "metadata": {},
   "outputs": [],
   "source": [
    "# Ejemplo de grafo con nodo con mayor grado diferente al de mayor centralidad\n",
    "H = nx.Graph()\n",
    "H.add_nodes_from(['1', '2', '3', '4', '5', '6', '7', '8'])\n",
    "H.add_edges_from([('1', '4'), ('2', '4'), ('3', '4'), ('4', '5'), ('5', '6'), ('6', '7'), ('6', '8')])\n",
    "\n",
    "posiciones_nodos = {'1': [0.26081287, 0.8751262 ], \n",
    " '2': [-0.18917212,  0.7198457 ],\n",
    " '3': [0.55419382, 0.4984472 ], \n",
    " '4': [0.13556184, 0.45475622], \n",
    " '5': [-0.02473302, -0.0874654 ], \n",
    " '6': [-0.18162813, -0.61044471],\n",
    " '7': [-0.03313124, -1.        ],\n",
    " '8': [-0.52190402, -0.85026521]}\n",
    "\n",
    "posiciones_labels = {'1': [0.26081287, 0.8751262 ], \n",
    " '2': [-0.18917212,  0.7198457 ],\n",
    " '3': [0.55419382, 0.4984472 ], \n",
    " '4': [0.25556184, 0.28475622], \n",
    " '5': [ 0.18473302, -0.2074654 ], \n",
    " '6': [-0.18162813, -0.58044471],\n",
    " '7': [-0.03313124, -1.        ],\n",
    " '8': [-0.52190402, -0.85026521]}\n",
    "\n",
    "\n",
    "nx.draw(H, with_labels = True, pos = posiciones_nodos)\n",
    "labels=nx.draw_networkx_labels(H, pos = posiciones_labels, \n",
    "                               labels = {\"5\": \"Mayor conectividad\", \"4\": \"Mayor grado\"},\n",
    "                               font_size = 14, \n",
    "                               font_color = 'green')\n",
    "\n",
    "dic_cercania = nx.closeness_centrality(H)\n",
    "promedio_cercania = (sum(dic_cercania.values()) / orden)\n",
    "print(\"Promedio de la cercanía : \", round(promedio_cercania, 5))"
   ]
  },
  {
   "cell_type": "markdown",
   "metadata": {},
   "source": [
    "Igualmente, se observa que la cercanía media de los dos grafos no es la misma. Esto se debe a que en el cálculo de este parámetro de centralidad, la distribución de las ramas afecta al resultado final. Por ello, a pesar de que ambos grafos presentan el mismo número de nodos y ramas, no presentan la misma distribución, lo cual afecta a los caminos mínimos que se puedan formar. Este efecto se demuestra en los dos siguientes grafos, donde la centralidad promedio cambia de 0.00255 a 0.00259 tan solo cambiando una rama (manteniéndose el número de nodos y ramas). "
   ]
  },
  {
   "cell_type": "code",
   "execution_count": null,
   "metadata": {},
   "outputs": [],
   "source": [
    "H = nx.Graph()\n",
    "H.add_nodes_from(['1', '2', '3', '4', '5', '6', '7', '8'])\n",
    "H.add_edges_from([('1', '4'), ('2', '4'), ('3', '4'), ('4', '5'), ('5', '6'), ('6', '7'), ('6', '8')])\n",
    "\n",
    "posiciones_nodos = {'1': [0.26081287, 0.8751262 ], \n",
    " '2': [-0.18917212,  0.7198457 ],\n",
    " '3': [0.55419382, 0.4984472 ], \n",
    " '4': [0.13556184, 0.45475622], \n",
    " '5': [-0.02473302, -0.0874654 ], \n",
    " '6': [-0.18162813, -0.61044471],\n",
    " '7': [-0.03313124, -1.        ],\n",
    " '8': [-0.52190402, -0.85026521]}\n",
    "\n",
    "nx.draw(H, with_labels = True, pos = posiciones_nodos)\n",
    "\n",
    "dic_cercania = nx.closeness_centrality(H)\n",
    "promedio_cercania = (sum(dic_cercania.values()) / orden)\n",
    "print(\"Promedio de la cercanía : \", round(promedio_cercania, 5))\n"
   ]
  },
  {
   "cell_type": "code",
   "execution_count": null,
   "metadata": {},
   "outputs": [],
   "source": [
    "# Ejemplo de grafo con nodo con mayor grado diferente al de mayor centralidad\n",
    "F = nx.Graph()\n",
    "F.add_nodes_from(['1', '2', '3', '4', '5', '6', '7', '8'])\n",
    "F.add_edges_from([('1', '4'), ('2', '4'), ('3', '5'), ('4', '5'), ('5', '6'), ('6', '7'), ('6', '8')])\n",
    "\n",
    "posiciones_nodos = {'1': [0.26081287, 0.8751262 ], \n",
    " '2': [-0.18917212,  0.7198457 ],\n",
    " '3': [0.15419382, -0.2984472 ], \n",
    " '4': [0.13556184, 0.45475622], \n",
    " '5': [-0.02473302, -0.0874654 ], \n",
    " '6': [-0.18162813, -0.61044471],\n",
    " '7': [-0.03313124, -1.        ],\n",
    " '8': [-0.52190402, -0.85026521]}\n",
    "\n",
    "nx.draw(F, with_labels = True, pos = posiciones_nodos)\n",
    "\n",
    "dic_cercania = nx.closeness_centrality(F)\n",
    "promedio_cercania = (sum(dic_cercania.values()) / orden)\n",
    "print(\"Promedio de la cercanía: \", round(promedio_cercania, 5))"
   ]
  },
  {
   "cell_type": "markdown",
   "metadata": {},
   "source": [
    "Como conclusión podemos decir que el nodo con mayor cercanía es otra diana susceptible de ser atacada en una red, puesto que ayuda a determinar el impacto que éste causa dentro del conjunto del que forma parte [[3]](https://www.grapheverywhere.com/centralidad/), y que esta medida de la centralidad vuelve a indicar que el grafo de la red de proteínas de *C. elegans* no es un grafo aleatorio. \n",
    "\n"
   ]
  },
  {
   "cell_type": "markdown",
   "metadata": {},
   "source": [
    "La centralidad es menor en NO aleatorios que en aleatorios, porque los aleatorios presentan la distribución de las ramas de forma homogénea mientras que los NO aleatorios pueden presentar agrupaciones de nodos. Esto hace que las distancias entre nodos en los NO aleatorios sean mayores y, por tanto, la cercanía será menor en los grafos no aleatorios. \n",
    "\n",
    "**Ejemplo 1: Aleatoria vs Red ZNF480 [link](https://string-db.org/cgi/network.pl?taskId=cSfmw1qwj02H)**"
   ]
  },
  {
   "cell_type": "code",
   "execution_count": null,
   "metadata": {},
   "outputs": [],
   "source": [
    "# Aleatoria\n",
    "I = nx.gnm_random_graph(8, 8, seed = 1)\n",
    "\n",
    "pos = {0:[1.00000000e+00, 1.83784272e-08], 1:[0.70710678, 0.70710677], \n",
    "       2:[-1.73863326e-08,  9.99999992e-01], 3:[-0.70710672,  0.70710677], \n",
    "       4:[-9.99999947e-01, -6.90443471e-08], 5:[-0.70710678, -0.70710667], \n",
    "       6:[ 3.82499349e-08, -9.99999955e-01], 7:[ 0.70710666, -0.70710685]}\n",
    "\n",
    "nx.draw(I, with_labels = True, pos = pos)\n",
    "\n",
    "dic_cercania = nx.closeness_centrality(I)\n",
    "promedio_cercania = (sum(dic_cercania.values()) / orden)\n",
    "print(\"Promedio de la cercanía: \", round(promedio_cercania, 5))"
   ]
  },
  {
   "cell_type": "code",
   "execution_count": null,
   "metadata": {},
   "outputs": [],
   "source": [
    "# Red de proteínas relacionazas con la proteína ZNF480\n",
    "L = nx.Graph()\n",
    "L.add_nodes_from(['1', '2', '3', '4', '5', '6', '7', '8'])\n",
    "L.add_edges_from([('1', '2'), ('1', '3'), ('1', '4'), ('1', '5'), ('1', '6'), ('1', '7'), ('1', '8'), ('2', '3')])\n",
    "\n",
    "pos = {'1': [-0.00162884, -0.01468591], '2': [-0.22472125,  0.90837056], \n",
    "       '3': [0.30617573, 0.88310596], '4': [-0.94317228,  0.27793508], \n",
    "       '5': [-0.04744948, -1.        ], '6': [0.96677375, 0.19258629],\n",
    "       '7': [-0.80946116, -0.58527708], '8': [ 0.75348354, -0.66203489]}\n",
    "\n",
    "nx.draw(L, with_labels = True, pos = pos)\n",
    "\n",
    "dic_cercania = nx.closeness_centrality(L)\n",
    "promedio_cercania = (sum(dic_cercania.values()) / orden)\n",
    "print(\"Promedio de la cercanía: \", round(promedio_cercania, 5))"
   ]
  },
  {
   "cell_type": "markdown",
   "metadata": {},
   "source": [
    "**Ejemplo 2: Aleatoria vs GLIPR2 [link](https://string-db.org/cgi/network.pl?taskId=yRGyrjXoPGkU)**"
   ]
  },
  {
   "cell_type": "code",
   "execution_count": null,
   "metadata": {},
   "outputs": [],
   "source": [
    "# Aleatoria\n",
    "I = nx.gnm_random_graph(11, 14, seed = 1)\n",
    "\n",
    "pos = {0: [1., 0.], 1: [0.84125352, 0.54064077], 2: [0.41541505, 0.90963196],\n",
    "       3: [-0.14231483,  0.98982143], 4: [-0.65486066,  0.75574964], \n",
    "       5: [-0.95949297,  0.28173262], 6: [-0.95949297, -0.28173256], \n",
    "       7: [-0.65486072, -0.75574958], 8: [-0.14231501, -0.98982143],\n",
    "       9: [ 0.41541511, -0.90963196], 10: [ 0.84125346, -0.54064089]}\n",
    "\n",
    "nx.draw(I, with_labels = True, pos = pos)\n",
    "\n",
    "dic_cercania = nx.closeness_centrality(I)\n",
    "promedio_cercania = (sum(dic_cercania.values()) / orden)\n",
    "print(\"Promedio de la cercanía: \", round(promedio_cercania, 5))"
   ]
  },
  {
   "cell_type": "code",
   "execution_count": null,
   "metadata": {},
   "outputs": [],
   "source": [
    "# Red de proteínas relacionazas con la proteína ZNF480\n",
    "L = nx.Graph()\n",
    "L.add_nodes_from(['1', '2', '3', '4', '5', '6', '7', '8', '9', '10', '11'])\n",
    "L.add_edges_from([('1', '2'), ('1', '3'), ('1', '4'), ('1', '5'), ('1', '6'),\n",
    "                  ('1', '7'), ('1', '8'), ('1', '9'), ('1', '10'), ('1', '11'), ('2', '3'),\n",
    "                 ('9', '11'), ('10', '11'), ('9', '10')])\n",
    "\n",
    "pos = nx.circular_layout(L)\n",
    "nx.draw(L, with_labels = True, pos = pos)\n",
    "\n",
    "dic_cercania = nx.closeness_centrality(L)\n",
    "promedio_cercania = (sum(dic_cercania.values()) / orden)\n",
    "print(\"Promedio de la cercanía: \", round(promedio_cercania, 5))"
   ]
  },
  {
   "cell_type": "markdown",
   "metadata": {},
   "source": [
    "**c) beteewnness_centrality()**\n",
    "\n",
    "El beteewness de un nodo ($v$) se define como la fracción de caminos mínimos que hay entre el resto de nodos del grafo y que pasan por el nodo $v$. En otras palabras, el betweeness es una medida que cuantifica la frecuencia o el número de veces que un nodo actúa como un puente a lo largo del camino más corto entre otros dos nodos [[1]](https://es.wikipedia.org/wiki/Centralidad).  \n",
    "\n",
    "Los nodos con una alto betweeness suelen jugar un rol crítico en la estructura de la red. Esto se debe a que participan como reguladores del flujo de información en los procesos de difusión e integración de la información. De este modo, los nodos con un alto betweeness también son dianas susceptibles de ser atacadas en una red. \n",
    "\n",
    "<font color='red'>¿Por qué el beteewness sale igual en ambos y la cercanía no?</font>\n",
    "Creo que está solucionado. Me equivoqué poniendo \"promedio_cercania\"\n",
    "\n",
    "Aquí las ramas y nodos son los mismos pero la distribución de las ramas aquí si afecta al cálculo, porque afecta a los caminos mínimos que se puedan formar y a la topología de la red.  \n",
    "\n",
    "La red biológica es diferente a la aleatoria, siendo mayor el betweenness de la aleatoria que la de la red de proteínas. Tiene sentido que sean diferentes, la red de proteínas presenta un sesgo en la distribución de sus ramas por lo que el número de caminos mínimos que pasan por un nodo individual puede ser alto, pero de media el número de caminos mínimos que pasan por un punto será menor dado que hay clústeres, de modo que la conexión entre los clústeres tiene poco intermediarios. Mientras que en uno aleatorio los caminos mínimos que incorporen otros nodos intermediarios serán más abundantes dada la distribución homogénea de las ramas. "
   ]
  },
  {
   "cell_type": "code",
   "execution_count": null,
   "metadata": {},
   "outputs": [],
   "source": [
    "# Grafo inicial\n",
    "dic_bet = nx.betweenness_centrality(G_CE)\n",
    "promedio_bet = (sum(dic_bet.values()) / orden)\n",
    "print(\"Promedio del beteewness en la red de proteínas de C. elegans: \", promedio_bet)\n",
    "\n",
    "mayor = max(dic_bet.items(), key = lambda pareja: pareja[1] )\n",
    "print(mayor)\n",
    "print(\"Nodo con mayorbetweeness en la red de proteínas de C. elegans: %s, (%s)\" %(mayor[0], mayor[1]))"
   ]
  },
  {
   "cell_type": "code",
   "execution_count": null,
   "metadata": {},
   "outputs": [],
   "source": [
    "print(\"Promedio del betweenness medioo en el grafo aleatorio: %s, con %s desviación estándar\"\n",
    "      %(dic_params[\"Betweenness\"][0], dic_params[\"Betweenness\"][1]))\n",
    "print()\n",
    "print(\"Centralidad media del nodo con mayor betweenness en el grafo aleatorio: %s, con desviación estándar %s\" \n",
    "      %(dic_params[\"Nodo max betweenness\"][0], dic_params[\"Nodo max betweenness\"][1]))"
   ]
  },
  {
   "cell_type": "markdown",
   "metadata": {},
   "source": [
    "$ \\\\ $\n",
    "\n",
    "**d) average_clustering()**\n",
    "\n",
    "El coeficiente de clusterización o agrupamiento (C) es un valor métrico local que mide el nivel de agrupamiento de los nodos. \n",
    "\n",
    "Una red biológica tiene un índice de clusterización alto, pero las redes aleatorias tienen un índice de clusterización bajo (dado que las ramas se distribuyen de forma aleatoria y es más difícil que aparezcan agrupaciones de nodos). De este modo, podemos comprobar de nuevo que la red de proteínas de *C. elegans* efectivamente corresponde a una red no aleatoria.\n",
    "\n",
    "Debe tenerse en cuenta que también habría que descartar la posibilidad de que la red de protéinas de *C. elegans* no fuera un grafo de mundo pequeño, ya que este tipo de grafos también tiene un índice de clusterización alto. Para descartar esta posibilidad habría que estudiar el camino mínimo medio, siendo alto para grafos de mundo pequeño y bajo para redes biológicas. No obstante, no es posible conocer el camino mínimo de la red de proteínas de *C. elegans* porque es un grafo no conexo.\n",
    "\n",
    "<font color='red'>¿Cómo sé si es de mundo pequeño o libre de escala?\n",
    "¿Cómo es la dsitribución de grado en una red de mundo pequeño?\n",
    "En libre de escala es rectilínea (histogramas . \n",
    "En una aleatoria es curilínea. </font>\n",
    "\n",
    "## Tema 2 diapositiva 50\n",
    "Diferencia las de libre de escala de las de mundo pequeño \n",
    "\n",
    "|                   | L        | C      |\n",
    "|-------------------|----------|--------|\n",
    "| Anillo Regular    | 125.438  | 0.643  |\n",
    "| Mundo Pequeño     | 14.2     | 0.626  |\n",
    "| Libre de escala   | 3.409    | 0.0186 |\n",
    "| Aleatorio         | 3.89     | 0.004  |\n",
    "\n",
    "\n",
    "\n",
    "|            | L  | C       |\n",
    "|------------|----|---------|\n",
    "| C. elegans | 7.92256 | 0.0757  |\n",
    "| Aleatorio  | 8.07948 | 0.00167 |"
   ]
  },
  {
   "cell_type": "markdown",
   "metadata": {},
   "source": [
    "**Al parecer nuestra red es una de libre de escala pero no de mundo pequeño**"
   ]
  },
  {
   "cell_type": "code",
   "execution_count": null,
   "metadata": {},
   "outputs": [],
   "source": [
    "# Grafo inicial\n",
    "c = nx.average_clustering(G_CE)\n",
    "print(\"Índice de clusterización de la red de proteínas de C. elegans:\", c)\n",
    "mayor = max(nx.clustering(G_CE).items(), key = lambda pareja: pareja[1])\n",
    "print(\"El nodo con mayor índice de clusterización es: %s, (%s)\" %(mayor[0], mayor[1]))\n",
    "\n",
    "try:\n",
    "    L = nx.average_shortest_path_length(G_CE)\n",
    "    print(\"Camino mínimo de la red de proteínas de C. elegans:\", L)\n",
    "except:\n",
    "    print (\"\\nNo puede calcularse el camíno mínimo de un grafo no conexo\")"
   ]
  },
  {
   "cell_type": "code",
   "execution_count": null,
   "metadata": {},
   "outputs": [],
   "source": [
    "print(\"Promedio del índice de clústering medio de grado en el grafo aleatorio: %s, con %s desviación estándar\"\n",
    "      %(dic_params[\"Clustering\"][0], dic_params[\"Clustering\"][1]))\n",
    "print()\n",
    "print(\"Clustering media del nodo con mayor índice de clustering en el grafo aleatorio: %s, con desviación estándar %s\" \n",
    "      %(dic_params[\"Nodo max clustering\"][0], dic_params[\"Nodo max clustering\"][1]))"
   ]
  },
  {
   "cell_type": "markdown",
   "metadata": {},
   "source": [
    "A pesar de que no se puede calcular el camino mínimo para un grafo no conexo, sí podemos conocer la componente conexa de mayor tamaño y calcular en ella su camino mínimo:"
   ]
  },
  {
   "cell_type": "code",
   "execution_count": null,
   "metadata": {},
   "outputs": [],
   "source": [
    "# Grafo C. elegans\n",
    "\n",
    "# Número de componentes conexas.\n",
    "a = nx.number_connected_components(G_CE)\n",
    "print (\"Número de componentes conexas del grafo de C. elegans:\", a)\n",
    "\n",
    "# Para conocer el camino mínimo de la más grande obtengo como subgrafo la componente de mayor tamaño\n",
    "max_componente = max(nx.connected_component_subgraphs(G_CE), key = len)\n",
    "min_path_max_componente = nx.average_shortest_path_length(max_componente)\n",
    "print (\"\\nCamino mínimo promedio de la componente más grande de C. elegans:\", min_path_max_componente)"
   ]
  },
  {
   "cell_type": "code",
   "execution_count": null,
   "metadata": {},
   "outputs": [],
   "source": [
    "print(\"Promedio del número de componentes conexas del grafo aleatorio: %s, con %s desviación estándar\"\n",
    "      %(dic_params[\"Componentes\"][0], dic_params[\"Componentes\"][1]))\n",
    "print()\n",
    "print(\"Promedio del camino mínimo medio de grafo aleatorio: %s, con %s desviación estándar\"\n",
    "      %(dic_params[\"Shortest path\"][0], dic_params[\"Shortest path\"][1]))"
   ]
  },
  {
   "cell_type": "markdown",
   "metadata": {},
   "source": [
    "$$ \\\\ $$ \n",
    "\n",
    "**e) El máximo k para el cual existe un k core**\n",
    "\n",
    "Existen diferentes métodos de anidamiento de este tipo. Uno de ellos, propuesto por Seidman (1983), es el que utiliza el grado de los puntos como medida de cohesión y se basa en la definición de núcleos de grado k (“k-cores”). Un núcleo de grado k es el máximo subgrafo en el cual todos los puntos son adyacentes a al menos otros k puntos.\n",
    "Ampliar. Pero te da un indicio de que hay clústeres\n",
    "\n",
    "<font color='red'>¿Para qué sirve?</font>\n"
   ]
  },
  {
   "cell_type": "code",
   "execution_count": null,
   "metadata": {},
   "outputs": [],
   "source": [
    "k_core = nx.core_number(G_CE)\n",
    "\n",
    "# Nodo con mayor valor de centralidad de grado\n",
    "mayor = max(k_core.values())\n",
    "print(\"Máximo k-core de la red de proteínas de C. elegans: %d\" % mayor)"
   ]
  },
  {
   "cell_type": "code",
   "execution_count": null,
   "metadata": {},
   "outputs": [],
   "source": [
    "print(\"Promedio del k-core medio en el grafo aleatorio: %s, con %s desviación estándar\"\n",
    "      %(dic_params[\"Max k-core\"][0], dic_params[\"Max k-core\"][1]))"
   ]
  }
 ],
 "metadata": {
  "kernelspec": {
   "display_name": "Python 3",
   "language": "python",
   "name": "python3"
  },
  "language_info": {
   "codemirror_mode": {
    "name": "ipython",
    "version": 3
   },
   "file_extension": ".py",
   "mimetype": "text/x-python",
   "name": "python",
   "nbconvert_exporter": "python",
   "pygments_lexer": "ipython3",
   "version": "3.7.4"
  }
 },
 "nbformat": 4,
 "nbformat_minor": 4
}
