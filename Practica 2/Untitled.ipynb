{
 "cells": [
  {
   "cell_type": "markdown",
   "metadata": {},
   "source": [
    "Mirar que e grafo es conexo. Camino mínimo no puede ser mayor que N-1 porque es el máximo del camino caracteçristico. . \n",
    "\n",
    "for i in range in a\n",
    "\n",
    "Hacer dos dimensiones y que calcule la media de cada columna. \n",
    "\n",
    "Printear L y C separado. "
   ]
  },
  {
   "cell_type": "markdown",
   "metadata": {},
   "source": [
    "## Estudiar las propiedades de un grafo aleatorio\n",
    "\n",
    "**a)** Usando la función gnp_random_graph(n,p) de NetworkX Implementad una rutina\n",
    "Python L_C_Aleatorio que devuelva valor promedio de los coeficientes C (índice de\n",
    "clusterización promedio) y L (camino característico) de un conjunto de n_graph grafos\n",
    "aleatorios de n nodos y probabilidad p. El formato de la función debe ser"
   ]
  },
  {
   "cell_type": "code",
   "execution_count": null,
   "metadata": {},
   "outputs": [],
   "source": [
    "def L_C_Aleatorio(n_graph,n,p):\n",
    "    mu_C = 0\n",
    "    mu_L = 0\n",
    "    for i in range(n_graph):\n",
    "        G = nx.gnp_random_graph(n, p)\n",
    "        C = nx.average_clustering(G)\n",
    "        if nx.is_connected(G):\n",
    "            L = nx.average_shortest_path_length(G)\n",
    "        else:\n",
    "            L = n-1\n",
    "        mu_C += C/n_graph\n",
    "        mu_L += L/n_graph\n",
    "    return mu_L, mu_C\n",
    "            "
   ]
  },
  {
   "cell_type": "code",
   "execution_count": null,
   "metadata": {},
   "outputs": [],
   "source": [
    "[l,c] = L_C_Aleatorio(n_graph,n,p)"
   ]
  }
 ],
 "metadata": {
  "kernelspec": {
   "display_name": "Python 3",
   "language": "python",
   "name": "python3"
  },
  "language_info": {
   "codemirror_mode": {
    "name": "ipython",
    "version": 3
   },
   "file_extension": ".py",
   "mimetype": "text/x-python",
   "name": "python",
   "nbconvert_exporter": "python",
   "pygments_lexer": "ipython3",
   "version": "3.7.4"
  }
 },
 "nbformat": 4,
 "nbformat_minor": 2
}
